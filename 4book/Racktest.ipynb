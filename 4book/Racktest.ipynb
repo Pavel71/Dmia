{
 "cells": [
  {
   "cell_type": "code",
   "execution_count": 6,
   "metadata": {},
   "outputs": [],
   "source": [
    "import pandas as pd\n",
    "url = r'https://archive.ics.uci.edu/ml/machinelearning-databases/breast-cancer-wisconsin/wdbc.data1'\n",
    "df = pd.read_csv(url, header=None)\n"
   ]
  },
  {
   "cell_type": "code",
   "execution_count": 7,
   "metadata": {},
   "outputs": [],
   "source": [
    "from sklearn.model_selection import train_test_split # cross_validation X_train, X_test, y_train, y_test = \\\n",
    "\n",
    "train_test_split(X, y, test_size=0.20, random_state=l)"
   ]
  },
  {
   "cell_type": "code",
   "execution_count": 9,
   "metadata": {},
   "outputs": [],
   "source": [
    "from sklearn.preprocessing import StandardScaler\n",
    "from sklearn.decomposition import PCA\n",
    "from sklearn.linear_model import LogisticRegression\n",
    "from sklearn.pipeline import Pipeline\n",
    "from sklearn.preprocessing import Imputer"
   ]
  },
  {
   "cell_type": "code",
   "execution_count": null,
   "metadata": {},
   "outputs": [],
   "source": []
  },
  {
   "cell_type": "code",
   "execution_count": null,
   "metadata": {},
   "outputs": [],
   "source": [
    "# также можем использовать Imputer если требуется заполнить пропуски impr , Imputer( миссия обраотка пропусков и задание)\n",
    "pipe_lr = Pipeline([('scl', StandardScaler()), \n",
    "                    ('pea', PCA(n_components=2)),\n",
    "                    ('clf', LogisticRegression(random_state=l))]) \n",
    "\n",
    "pipe_lr.fit (X_train, y_train)\n",
    "                     \n",
    "print('Верность на тестовом наборе: %.3f' % pipe_lr.score(X_test, y_test))\n",
    "Верность на тестовом наборе: 0.947"
   ]
  },
  {
   "cell_type": "markdown",
   "metadata": {},
   "source": [
    "## Блочная проверка! Применять только ее."
   ]
  },
  {
   "cell_type": "code",
   "execution_count": null,
   "metadata": {},
   "outputs": [],
   "source": [
    "import numpy as np\n",
    "from sklearn.model_selection import StratifiedKFold \n",
    "\n",
    "kfold = StratifiedKFold (y=y_train, n_folds=10, random_state=l)\n",
    "scores = []"
   ]
  },
  {
   "cell_type": "code",
   "execution_count": null,
   "metadata": {},
   "outputs": [],
   "source": [
    "for к, (train, test) in enumerate(kfold):\n",
    "pipe_lr .fit (X_train [train] , y_train [train])\n",
    "score = pipe_lr.score(X_train[test], y_train[test])\n",
    "\n",
    "scores.append(score)\n",
    "print('BnoK: %s, распр. классов: %s, верность: %.3f' % (k+1, np.bincount(y_train[train]), score))\n",
    "\n",
    "Блок: 1,распр.классов:[256153],верность:0.891\n",
    "Блок: 2,распр.классов:[256153],верность:0.978\n",
    "Блок: 3,распр.классов:[256153],верность:0.978\n",
    "Блок: 4,распр.классов:[256153],верность:0.913\n",
    "Блок: 5,распр.классов:[256153],верность:0.935\n",
    "Блок: 6,распр.классов:[257153],верность:0.978\n",
    "Блок: 7,распр.классов:[257153],верность:0.933\n",
    "Блок: 8,распр.классов:[257153],верность:0.956\n",
    "Блок: 9,распр.классов:[257153] ,верность:0.978\n",
    "Блок: 10,, распр.классов:[257153],, верность: 0.956\n",
    "            \n",
    "print('Перекрестно-проверочная верность: %.3f +/- %.3f' % ( # CV accuracy np.mean(scores), np.std(scores)))\n",
    "Перекрестно-проверочная верность: 0.950 +/- 0.029"
   ]
  },
  {
   "cell_type": "code",
   "execution_count": 10,
   "metadata": {},
   "outputs": [],
   "source": [
    "pd.groupby?"
   ]
  },
  {
   "cell_type": "code",
   "execution_count": null,
   "metadata": {},
   "outputs": [],
   "source": []
  }
 ],
 "metadata": {
  "kernelspec": {
   "display_name": "Python 3",
   "language": "python",
   "name": "python3"
  },
  "language_info": {
   "codemirror_mode": {
    "name": "ipython",
    "version": 3
   },
   "file_extension": ".py",
   "mimetype": "text/x-python",
   "name": "python",
   "nbconvert_exporter": "python",
   "pygments_lexer": "ipython3",
   "version": "3.6.4"
  }
 },
 "nbformat": 4,
 "nbformat_minor": 2
}
